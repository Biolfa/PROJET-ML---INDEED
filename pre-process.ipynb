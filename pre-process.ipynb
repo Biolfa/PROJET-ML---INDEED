{
 "cells": [
  {
   "cell_type": "markdown",
   "metadata": {},
   "source": [
    "### Import les bibliotheques"
   ]
  },
  {
   "cell_type": "code",
   "execution_count": null,
   "metadata": {},
   "outputs": [],
   "source": [
    "import pandas as pd\n",
    "import numpy as np \n",
    "import string\n",
    "import re"
   ]
  },
  {
   "cell_type": "markdown",
   "metadata": {},
   "source": [
    "### Import les datasets"
   ]
  },
  {
   "cell_type": "code",
   "execution_count": null,
   "metadata": {},
   "outputs": [],
   "source": [
    "df = pd.read_csv('partial_scraping.csv')\n",
    "\n",
    "def initialize_data(dataset):\n",
    "    dataset['Description'] = dataset['Description'].str.lower()\n",
    "    dataset['Title'] = dataset['Title'].str.lower()\n",
    "    dataset['Company'] = dataset['Company'].str.lower()\n",
    "    dataset['Salary'] = dataset['Salary'].fillna('None')\n",
    "    dataset['salary_min'] = 0\n",
    "    dataset['salary_max'] = 0\n",
    "    return dataset\n",
    "\n",
    "df = initialize_data(df)"
   ]
  },
  {
   "cell_type": "markdown",
   "metadata": {},
   "source": [
    "### Traitement des donnees "
   ]
  },
  {
   "cell_type": "markdown",
   "metadata": {},
   "source": [
    "#### Salaires"
   ]
  },
  {
   "cell_type": "markdown",
   "metadata": {},
   "source": [
    "-  Separer les salaires en min et max"
   ]
  },
  {
   "cell_type": "code",
   "execution_count": null,
   "metadata": {},
   "outputs": [],
   "source": [
    "def split_salary(row):\n",
    "    \n",
    "    salary = row[\"Salary\"]\n",
    "    if salary != 'None':\n",
    "        if \"-\" in salary:\n",
    "            split = salary.split(\"-\")\n",
    "            salary_min = split[0]\n",
    "            salary_max = split[1]\n",
    "        else:\n",
    "            salary_min = salary\n",
    "            salary_max = salary\n",
    "\n",
    "        row[\"salary_min\"] = salary_min.replace(\"€\",\"\").replace(\"par mois\",\"\").replace(\"par semaine\",\"\").replace(\"par an\",\"\").replace(\"\\xa0\",\"\")\n",
    "        row[\"salary_max\"] = salary_max.replace(\"€\",\"\").replace(\"par mois\",\"\").replace(\"par semaine\",\"\").replace(\"par an\",\"\").replace(\"\\xa0\",\"\")\n",
    "\n",
    "        if \"mois\" in row[\"Salary\"]:\n",
    "            row[\"salary_min\"] = int(row[\"salary_min\"])*12\n",
    "            row[\"salary_max\"] = int(row[\"salary_max\"])*12\n",
    "\n",
    "        if \"semaine\" in row[\"Salary\"]:\n",
    "            row[\"salary_min\"] = int(row[\"salary_min\"])*52\n",
    "            row[\"salary_max\"] = int(row[\"salary_max\"])*52\n",
    "    else:\n",
    "        regex_salary = re.findall('\\d+ \\d+[€]|\\d+k€|\\d+[.]\\d+k€|\\d+[.]\\d+K€|\\d+K€|\\d+ \\d+[.]\\d+[€]|\\d+[,]\\d+[.]\\d+[€]|\\d+[,]\\d+[€]|\\d+€|\\d+ \\d+[,]\\d+[€]', row['Description'])\n",
    "        if regex_salary != []:\n",
    "            row['Salary'] = list(regex_salary)\n",
    "            if len(regex_salary) > 1 :\n",
    "                if 'k' in regex_salary[0] or 'k' in regex_salary[1] or 'K' in regex_salary[0] or 'K' in regex_salary[1]:\n",
    "                    row['salary_min'] = int(regex_salary[0].replace(\"k\", \"\").replace(\"€\",\"\").replace(\"\\xa0\",\"\").replace(\" \",\"\").replace(\",00\",\"\")) * 1000\n",
    "                    row['salary_max'] = int(regex_salary[1].replace(\"k\", \"\").replace(\"€\",\"\").replace(\"\\xa0\",\"\").replace(\" \",\"\").replace(\",00\",\"\")) * 1000\n",
    "                else:\n",
    "                    regex_salary_min = int(regex_salary[0].replace(\"€\",\"\").replace(\"\\xa0\",\"\").replace(\" \",\"\").replace(\",00\",\"\"))\n",
    "                    regex_salary_max = int(regex_salary[1].replace(\"€\",\"\").replace(\"\\xa0\",\"\").replace(\" \",\"\").replace(\",00\",\"\"))\n",
    "                    if regex_salary_min < 140 and regex_salary_max < 140:\n",
    "                        # Taux horaire\n",
    "                        row['salary_min'] = regex_salary_min * 35 * 52\n",
    "                        row['salary_max'] = regex_salary_max * 35 * 52\n",
    "                    elif regex_salary_min < 2000 and regex_salary_min > 500 and regex_salary_max < 2000 and regex_salary_max > 500:\n",
    "                        # Taux mensuel\n",
    "                        row['salary_min'] = regex_salary_min * 12 \n",
    "                        row['salary_max'] = regex_salary_max * 12\n",
    "                    elif regex_salary_min < 500 and regex_salary_min > 140 and regex_salary_max < 500 and regex_salary_max > 140:\n",
    "                        # Taux journalier\n",
    "                        row['salary_min'] = regex_salary_min * 5 * 52 \n",
    "                        row['salary_max'] = regex_salary_max * 5 * 52\n",
    "                    else:\n",
    "                        # Taux annuel\n",
    "                        row['salary_min'] = regex_salary_min  \n",
    "                        row['salary_max'] = regex_salary_max \n",
    "                        \n",
    "            \n",
    "            else:\n",
    "                if 'k' in regex_salary[0] or 'K' in regex_salary[0]:\n",
    "                    regex_salary = int(regex_salary[0].replace(\"k\", \"\").replace(\"€\",\"\").replace(\"\\xa0\",\"\").replace(\" \",\"\").replace(\",00\",\".\")) * 1000\n",
    "                    row['salary_min'] = regex_salary\n",
    "                    row['salary_max'] = regex_salary\n",
    "                else:\n",
    "                    regex_salary = int(regex_salary[0].replace(\"€\",\"\").replace(\"\\xa0\",\"\").replace(\" \",\"\").replace(\",00\",\"\"))\n",
    "                    if regex_salary < 140 :\n",
    "                        row['salary_min'] = regex_salary * 35 * 52 \n",
    "                        row['salary_max'] = regex_salary * 35 * 52\n",
    "                    elif regex_salary < 2000 and regex_salary > 500 :\n",
    "                        row['salary_min'] = regex_salary * 12\n",
    "                        row['salary_max'] = regex_salary * 12\n",
    "                    elif regex_salary > 140 and regex_salary < 500:\n",
    "                        row['salary_min'] = regex_salary * 5 * 52\n",
    "                        row['salary_max'] = regex_salary * 5 * 52\n",
    "\n",
    "        else:\n",
    "            row['Salary'] = 'None'\n",
    "            row['salary_min'] = 0\n",
    "            row['salary_max'] = 0\n",
    "        \n",
    "    return row"
   ]
  },
  {
   "cell_type": "code",
   "execution_count": null,
   "metadata": {},
   "outputs": [],
   "source": [
    "# A revoir au niveau du calcul des salaires en fonction taux horaire, journalier, mensuel\n",
    "\n",
    "df = df.apply(split_salary, axis=1)\n",
    "df[df['Salary'] != 'None']"
   ]
  },
  {
   "cell_type": "markdown",
   "metadata": {},
   "source": [
    "#### Description"
   ]
  },
  {
   "cell_type": "markdown",
   "metadata": {},
   "source": [
    "- Cibler les contrats"
   ]
  },
  {
   "cell_type": "code",
   "execution_count": null,
   "metadata": {},
   "outputs": [],
   "source": [
    "def add_contracts(dataset):\n",
    "    dataset['Contrat'] = ''\n",
    "    for i in range(len(dataset['Title'])):\n",
    "        keyword = re.findall('cdi|cdd|free-lance|free lance|freelance|independant|stage|internship|alternance|apprenticeship', dataset['Title'][i])\n",
    "        if keyword == []:\n",
    "            keyword = re.findall('cdi|cdd|free-lance|free lance|freelance|independant|stage|internship|alternance|apprenticeship', dataset['Description'][i])\n",
    "            if keyword == []:\n",
    "                 dataset['Contrat'][i] = 'None'\n",
    "\n",
    "        if dataset['Contrat'][i] != 'None':\n",
    "            if 'cdi' in keyword:\n",
    "                dataset['Contrat'][i] = 'CDI'\n",
    "            elif 'cdd' in keyword:\n",
    "                dataset['Contrat'][i] = 'CDD'\n",
    "            elif 'free lance' in keyword or 'freelance' in keyword or 'free-lance' in keyword:\n",
    "                dataset['Contrat'][i] = 'Free Lance'\n",
    "            elif 'stage' in keyword or 'internship' in keyword:\n",
    "                dataset['Contrat'][i] = 'Stage'\n",
    "            elif 'alternance' in keyword or 'apprenticeship' in keyword:\n",
    "                dataset['Contrat'][i] = 'Alternance'\n",
    "            elif 'cdi' in keyword and len(keyword) > 1:\n",
    "                dataset['Contrat'][i] = 'CDI'\n",
    "\n",
    "    return dataset\n",
    "        "
   ]
  },
  {
   "cell_type": "code",
   "execution_count": null,
   "metadata": {},
   "outputs": [],
   "source": [
    "add_contracts(df)"
   ]
  },
  {
   "cell_type": "markdown",
   "metadata": {},
   "source": [
    "- Cibler les statuts"
   ]
  },
  {
   "cell_type": "code",
   "execution_count": null,
   "metadata": {
    "scrolled": true
   },
   "outputs": [],
   "source": [
    "def add_statut(dataset):\n",
    "    dataset['Statut'] = ''\n",
    "    for i in range(len(dataset['Title'])):\n",
    "        statut_word = re.findall('junior|senior|confirmé|débutant|experimenté|expérience significative', dataset['Title'][i])\n",
    "        if statut_word == []:\n",
    "            statut_word = re.findall('junior|senior|confirmé|débutant|experimenté|expérience significative', dataset['Description'][i])\n",
    "            if statut_word == []:\n",
    "                dataset['Statut'][i] = 'None'\n",
    "        if dataset['Statut'][i] != 'None':\n",
    "            if 'junior' in statut_word or df['Contrat'][i] == 'Stage':\n",
    "                dataset['Statut'][i] = 'Junior'\n",
    "            elif 'senior' in statut_word:\n",
    "                dataset['Statut'][i] = 'Senior'\n",
    "            elif 'confirmé' in statut_word or 'experimenté' in statut_word or 'expérience significative' in statut_word:\n",
    "                dataset['Statut'][i] = 'Confirmé'\n",
    "            else : \n",
    "                if statut_word[0] == 'junior' or df['Contrat'][i] == 'Stage':\n",
    "                    dataset['Statut'][i] = 'Junior'\n",
    "                elif statut_word[0] == 'senior':\n",
    "                    dataset['Statut'][i] = 'Senior'\n",
    "                elif statut_word[0] == 'confirmé' or statut_word[0] == 'experimenté' or statut_word[0] == 'expérience significative':\n",
    "                    dataset['Statut'][i] = 'Confirmé'\n",
    "                else:\n",
    "                    dataset['Statut'][i] = 'None'\n",
    "\n",
    "    return dataset"
   ]
  },
  {
   "cell_type": "code",
   "execution_count": null,
   "metadata": {
    "scrolled": false
   },
   "outputs": [],
   "source": [
    "# A revoir le code pour des erreurs \n",
    "add_statut(df)"
   ]
  },
  {
   "cell_type": "markdown",
   "metadata": {},
   "source": [
    "- Cibler les competences "
   ]
  },
  {
   "cell_type": "code",
   "execution_count": null,
   "metadata": {},
   "outputs": [],
   "source": [
    "def competences(dataset):\n",
    "    dataset['python'] = 0\n",
    "    dataset['Machine Learning'] = 0\n",
    "    dataset['Java'] = 0\n",
    "    for i in range(len(dataset['Description'])):\n",
    "        key_word = re.findall('python|java|machine learning', dataset['Description'][i])\n",
    "        if 'python' in key_word:\n",
    "            dataset['python'][i] = 1\n",
    "        elif 'java' in key_word:\n",
    "            dataset['Java'][i] = 1\n",
    "        elif 'machine learning' in key_word:\n",
    "            dataset['Machine Learning'][i] = 1 \n",
    "    return dataset\n",
    "    "
   ]
  },
  {
   "cell_type": "code",
   "execution_count": null,
   "metadata": {},
   "outputs": [],
   "source": [
    "competences(df)"
   ]
  },
  {
   "cell_type": "code",
   "execution_count": null,
   "metadata": {},
   "outputs": [],
   "source": []
  }
 ],
 "metadata": {
  "kernelspec": {
   "display_name": "Python 3",
   "language": "python",
   "name": "python3"
  },
  "language_info": {
   "codemirror_mode": {
    "name": "ipython",
    "version": 3
   },
   "file_extension": ".py",
   "mimetype": "text/x-python",
   "name": "python",
   "nbconvert_exporter": "python",
   "pygments_lexer": "ipython3",
   "version": "3.7.3"
  }
 },
 "nbformat": 4,
 "nbformat_minor": 2
}

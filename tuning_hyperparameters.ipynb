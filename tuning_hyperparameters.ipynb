{
 "cells": [
  {
   "cell_type": "code",
   "execution_count": null,
   "metadata": {},
   "outputs": [],
   "source": [
    "import re\n",
    "\n",
    "import matplotlib.pyplot as plt\n",
    "import seaborn as sns\n",
    "\n",
    "import numpy as np\n",
    "import pandas as pd\n",
    "\n",
    "from sklearn.feature_extraction.text import TfidfVectorizer\n",
    "\n",
    "from sklearn.model_selection import train_test_split\n",
    "from sklearn.model_selection import GridSearchCV\n",
    "\n",
    "from sklearn.linear_model import LogisticRegression\n",
    "from sklearn.svm import SVC\n",
    "from sklearn.ensemble import RandomForestClassifier\n",
    "\n",
    "from sklearn.metrics import accuracy_score\n",
    "from sklearn.metrics import confusion_matrix\n",
    "from sklearn.metrics import classification_report\n",
    "\n",
    "from xgboost import XGBClassifier\n",
    "\n",
    "from nltk import word_tokenize\n",
    "from nltk.corpus import stopwords\n",
    "\n",
    "import unidecode"
   ]
  },
  {
   "cell_type": "code",
   "execution_count": null,
   "metadata": {},
   "outputs": [],
   "source": [
    "df = pd.read_csv(\"salary_indeed.csv\")"
   ]
  },
  {
   "cell_type": "markdown",
   "metadata": {},
   "source": [
    "# Split Salary"
   ]
  },
  {
   "cell_type": "code",
   "execution_count": null,
   "metadata": {},
   "outputs": [],
   "source": [
    "def split_salary(row):\n",
    "    salary = row[\"Salary\"]\n",
    "    if \"-\" in salary:\n",
    "        split = salary.split(\"-\")\n",
    "        salary_min = split[0]\n",
    "        salary_max = split[1]\n",
    "    else:\n",
    "        salary_min = salary\n",
    "        salary_max = salary\n",
    "    \n",
    "    row[\"salary_min\"] = salary_min.replace(\"€\",\"\")\\\n",
    "                                  .replace(\"par an\",\"\")\\\n",
    "                                  .replace(\"par mois\",\"\")\\\n",
    "                                  .replace(\"par semaine\",\"\")\\\n",
    "                                  .replace(\"par jour\",\"\")\\\n",
    "                                  .replace(\"par heure\",\"\")\\\n",
    "                                  .replace(\"\\xa0\",\"\")\n",
    "    row[\"salary_max\"] = salary_max.replace(\"€\",\"\")\\\n",
    "                                  .replace(\"par an\",\"\")\\\n",
    "                                  .replace(\"par mois\",\"\")\\\n",
    "                                  .replace(\"par semaine\",\"\")\\\n",
    "                                  .replace(\"par jour\",\"\")\\\n",
    "                                  .replace(\"par heure\",\"\")\\\n",
    "                                  .replace(\"\\xa0\",\"\")\n",
    "    \n",
    "    if \"an\" in row[\"Salary\"]:\n",
    "        row[\"salary_period\"] = \"year\"\n",
    "\n",
    "    if \"mois\" in row[\"Salary\"]:\n",
    "        if float(row[\"salary_min\"]) < 1500:\n",
    "            row[\"salary_min\"] = float(row[\"salary_min\"])\n",
    "            row[\"salary_max\"] = float(row[\"salary_max\"])\n",
    "            row[\"salary_period\"] = \"month\"\n",
    "        else:\n",
    "            row[\"salary_min\"] = float(row[\"salary_min\"])*12\n",
    "            row[\"salary_max\"] = float(row[\"salary_max\"])*12\n",
    "            row[\"salary_period\"] = \"year\"\n",
    "    \n",
    "    if \"semaine\" in row[\"Salary\"]:\n",
    "        row[\"salary_min\"] = float(row[\"salary_min\"])\n",
    "        row[\"salary_max\"] = float(row[\"salary_max\"])\n",
    "        row[\"salary_period\"] = \"week\"\n",
    "\n",
    "    if \"jour\" in row[\"Salary\"]:\n",
    "        row[\"salary_min\"] = float(row[\"salary_min\"])\n",
    "        row[\"salary_max\"] = float(row[\"salary_max\"])\n",
    "        row[\"salary_period\"] = \"day\"\n",
    "\n",
    "    if \"heure\" in row[\"Salary\"]:\n",
    "        row[\"salary_min\"] = float(row[\"salary_min\"].replace(\",\",\".\"))\n",
    "        row[\"salary_max\"] = float(row[\"salary_max\"].replace(\",\",\".\"))\n",
    "        row[\"salary_period\"] = \"hour\"\n",
    "        \n",
    "    return row"
   ]
  },
  {
   "cell_type": "markdown",
   "metadata": {},
   "source": [
    "# Preprocess text"
   ]
  },
  {
   "cell_type": "code",
   "execution_count": null,
   "metadata": {},
   "outputs": [],
   "source": [
    "stop_words = stopwords.words('french')"
   ]
  },
  {
   "cell_type": "markdown",
   "metadata": {},
   "source": [
    "1. Mettre en minuscule\n",
    "2. Remplacer les ponctuations (sauf '+') par des espaces : `[^\\w|\\s|+]` mais aussi les '|' et '\\_' : `[_|\\|]`\n",
    "3. Remplacer les lettres accentuées par des lettres sans accents\n",
    "4. Remplacer les lettres seules (sauf les lettres c et r (langages de programmation)) par des espaces : `\\b[abd-qs-z]\\b`\n",
    "5. Remplacer les nombres qui ont 2 chiffres ou plus par des espaces : `\\d{2,}`\n",
    "6. Splitter la chaîne de caractères en une liste de mots\n",
    "7. Créer une nouvelle liste sans les stopwords"
   ]
  },
  {
   "cell_type": "code",
   "execution_count": null,
   "metadata": {},
   "outputs": [],
   "source": [
    "def preprocessing_text(text, stopwords, prefix=''):\n",
    "    if prefix:\n",
    "        prefix = prefix.lower() + '_'\n",
    "\n",
    "    text = text.lower()\n",
    "    text = re.sub(r'[^\\w|\\s|+]', ' ', text)\n",
    "    text = re.sub(r'[_|\\|]', ' ', text)\n",
    "    text = unidecode.unidecode(text)\n",
    "    text = re.sub(r'\\b[abd-qs-z]\\b', ' ', text)\n",
    "    text = re.sub(r'\\d{2,}', ' ', text)\n",
    "\n",
    "    # STOPWORDS\n",
    "    tokenized_words = word_tokenize(text)\n",
    "    tokenized_words = [prefix + word for word in tokenized_words if word not in stopwords]\n",
    "\n",
    "    return \" \".join(tokenized_words)"
   ]
  },
  {
   "cell_type": "code",
   "execution_count": null,
   "metadata": {},
   "outputs": [],
   "source": [
    "df_salary = df[~df.Salary.isna()]"
   ]
  },
  {
   "cell_type": "code",
   "execution_count": null,
   "metadata": {},
   "outputs": [],
   "source": [
    "#df_salary = df_salary.apply(lambda column: column.apply(preprocessing_text, args=(stop_words,))\n",
    "#                                          if column.name in ['Title', 'Description']\n",
    "#                                          else column)"
   ]
  },
  {
   "cell_type": "code",
   "execution_count": null,
   "metadata": {
    "scrolled": true
   },
   "outputs": [],
   "source": [
    "for column in ['Title', 'Description']:\n",
    "    col_lower = column.lower()\n",
    "    new_col = col_lower + '_clean'\n",
    "    \n",
    "    df_salary[new_col] = df_salary[column].apply(preprocessing_text,\n",
    "                                                 stopwords=stop_words,\n",
    "                                                 prefix=col_lower)"
   ]
  },
  {
   "cell_type": "code",
   "execution_count": null,
   "metadata": {},
   "outputs": [],
   "source": [
    "df_salary = df_salary.apply(split_salary, axis=1)\n",
    "df_salary[\"salary_min\"] = pd.to_numeric(df_salary[\"salary_min\"])\n",
    "df_salary[\"salary_max\"] = pd.to_numeric(df_salary[\"salary_max\"])"
   ]
  },
  {
   "cell_type": "code",
   "execution_count": null,
   "metadata": {},
   "outputs": [],
   "source": [
    "df_salary.info()"
   ]
  },
  {
   "cell_type": "markdown",
   "metadata": {},
   "source": [
    "## Création colonne salary mean"
   ]
  },
  {
   "cell_type": "code",
   "execution_count": null,
   "metadata": {},
   "outputs": [],
   "source": [
    "df_salary[\"salary_mean\"] = (df_salary[\"salary_min\"] + df_salary[\"salary_max\"]) / 2"
   ]
  },
  {
   "cell_type": "code",
   "execution_count": null,
   "metadata": {},
   "outputs": [],
   "source": [
    "df_salary"
   ]
  },
  {
   "cell_type": "markdown",
   "metadata": {},
   "source": [
    "# Je ne prends que les salaires qui sont 'par an' "
   ]
  },
  {
   "cell_type": "code",
   "execution_count": null,
   "metadata": {},
   "outputs": [],
   "source": [
    "df_salary = df_salary[df_salary.salary_period == 'year']"
   ]
  },
  {
   "cell_type": "markdown",
   "metadata": {},
   "source": [
    "## Quantiles salary mean"
   ]
  },
  {
   "cell_type": "code",
   "execution_count": null,
   "metadata": {},
   "outputs": [],
   "source": [
    "df_salary.salary_mean.describe()"
   ]
  },
  {
   "cell_type": "code",
   "execution_count": null,
   "metadata": {},
   "outputs": [],
   "source": [
    "tercile_1 = np.quantile(df_salary.salary_mean, 1/3)\n",
    "tercile_1"
   ]
  },
  {
   "cell_type": "code",
   "execution_count": null,
   "metadata": {},
   "outputs": [],
   "source": [
    "tercile_2 = np.quantile(df_salary.salary_mean, 2/3)\n",
    "tercile_2"
   ]
  },
  {
   "cell_type": "markdown",
   "metadata": {},
   "source": [
    "# Création colonne class label par rapport aux quantiles salary mean"
   ]
  },
  {
   "cell_type": "code",
   "execution_count": null,
   "metadata": {},
   "outputs": [],
   "source": [
    "#def classification(x):\n",
    "#    if x <= tercile_1:\n",
    "#        label = 1\n",
    "#    elif x <= tercile_2:\n",
    "#        label = 2\n",
    "#    else:\n",
    "#        label = 3\n",
    "#    return label\n",
    "\n",
    "#df_salary[\"salary_label\"] = df_salary[\"salary_mean\"].apply(classification)"
   ]
  },
  {
   "cell_type": "code",
   "execution_count": null,
   "metadata": {},
   "outputs": [],
   "source": [
    "df_salary = df_salary[(df_salary.salary_mean > 28000)\n",
    "                      & (df_salary.salary_mean <= 65000)]\n",
    "\n",
    "def classification(x):\n",
    "    if x <= 36000.0:\n",
    "        label = 0\n",
    "    elif x <= 42000.0:\n",
    "        label = 1\n",
    "    elif x <= 47000.0:\n",
    "        label = 2\n",
    "    elif x <= 53000.0:\n",
    "        label = 3\n",
    "    else:\n",
    "        label = 4\n",
    "    return label\n",
    "\n",
    "df_salary[\"salary_label\"] = df_salary[\"salary_mean\"].apply(classification)"
   ]
  },
  {
   "cell_type": "code",
   "execution_count": null,
   "metadata": {},
   "outputs": [],
   "source": [
    "df_salary.head()"
   ]
  },
  {
   "cell_type": "code",
   "execution_count": null,
   "metadata": {},
   "outputs": [],
   "source": []
  },
  {
   "cell_type": "code",
   "execution_count": null,
   "metadata": {},
   "outputs": [],
   "source": []
  },
  {
   "cell_type": "code",
   "execution_count": null,
   "metadata": {},
   "outputs": [],
   "source": []
  },
  {
   "cell_type": "code",
   "execution_count": null,
   "metadata": {},
   "outputs": [],
   "source": []
  },
  {
   "cell_type": "code",
   "execution_count": null,
   "metadata": {},
   "outputs": [],
   "source": []
  },
  {
   "cell_type": "code",
   "execution_count": null,
   "metadata": {},
   "outputs": [],
   "source": []
  },
  {
   "cell_type": "code",
   "execution_count": null,
   "metadata": {},
   "outputs": [],
   "source": [
    "X_title = df_salary.title_clean"
   ]
  },
  {
   "cell_type": "code",
   "execution_count": null,
   "metadata": {},
   "outputs": [],
   "source": [
    "vectorizer = TfidfVectorizer(token_pattern='\\S+', ngram_range=(1, 3), max_features=2500)\n",
    "X_title = vectorizer.fit_transform(X_title)"
   ]
  },
  {
   "cell_type": "code",
   "execution_count": null,
   "metadata": {},
   "outputs": [],
   "source": [
    "len(vectorizer.get_feature_names())"
   ]
  },
  {
   "cell_type": "code",
   "execution_count": null,
   "metadata": {
    "scrolled": true
   },
   "outputs": [],
   "source": [
    "X_title_df = pd.DataFrame(X_title.todense(), columns=vectorizer.get_feature_names())\n",
    "X_title_df"
   ]
  },
  {
   "cell_type": "code",
   "execution_count": null,
   "metadata": {},
   "outputs": [],
   "source": [
    "word_counts = X_title_df.sum(axis=0)\n",
    "word_counts.sort_values(ascending = False).head(20)"
   ]
  },
  {
   "cell_type": "code",
   "execution_count": null,
   "metadata": {},
   "outputs": [],
   "source": []
  },
  {
   "cell_type": "code",
   "execution_count": null,
   "metadata": {},
   "outputs": [],
   "source": []
  },
  {
   "cell_type": "code",
   "execution_count": null,
   "metadata": {},
   "outputs": [],
   "source": []
  },
  {
   "cell_type": "code",
   "execution_count": null,
   "metadata": {},
   "outputs": [],
   "source": [
    "X_desc = df_salary.description_clean"
   ]
  },
  {
   "cell_type": "code",
   "execution_count": null,
   "metadata": {},
   "outputs": [],
   "source": [
    "vectorizer = TfidfVectorizer(token_pattern='\\S+', ngram_range=(1, 3), max_features=2500)\n",
    "X_desc = vectorizer.fit_transform(X_desc)"
   ]
  },
  {
   "cell_type": "code",
   "execution_count": null,
   "metadata": {},
   "outputs": [],
   "source": [
    "len(vectorizer.get_feature_names())"
   ]
  },
  {
   "cell_type": "code",
   "execution_count": null,
   "metadata": {
    "scrolled": true
   },
   "outputs": [],
   "source": [
    "X_desc_df = pd.DataFrame(X_desc.todense(), columns=vectorizer.get_feature_names())\n",
    "X_desc_df"
   ]
  },
  {
   "cell_type": "code",
   "execution_count": null,
   "metadata": {},
   "outputs": [],
   "source": [
    "word_counts = X_desc_df.sum(axis=0)\n",
    "word_counts.sort_values(ascending = False).head(20)"
   ]
  },
  {
   "cell_type": "code",
   "execution_count": null,
   "metadata": {},
   "outputs": [],
   "source": []
  },
  {
   "cell_type": "code",
   "execution_count": null,
   "metadata": {},
   "outputs": [],
   "source": []
  },
  {
   "cell_type": "code",
   "execution_count": null,
   "metadata": {},
   "outputs": [],
   "source": [
    "X_dpt_df = pd.get_dummies(df_salary.Department_Search).reset_index(drop=True)"
   ]
  },
  {
   "cell_type": "code",
   "execution_count": null,
   "metadata": {
    "scrolled": true
   },
   "outputs": [],
   "source": [
    "X_dpt_df"
   ]
  },
  {
   "cell_type": "code",
   "execution_count": null,
   "metadata": {},
   "outputs": [],
   "source": []
  },
  {
   "cell_type": "code",
   "execution_count": null,
   "metadata": {},
   "outputs": [],
   "source": [
    "X = pd.concat([X_title_df, X_desc_df, X_dpt_df], axis=1)\n",
    "y = df_salary.salary_label"
   ]
  },
  {
   "cell_type": "code",
   "execution_count": null,
   "metadata": {},
   "outputs": [],
   "source": [
    "X_train, X_test, y_train, y_test = train_test_split(X, y, stratify=y)"
   ]
  },
  {
   "cell_type": "code",
   "execution_count": null,
   "metadata": {},
   "outputs": [],
   "source": []
  },
  {
   "cell_type": "code",
   "execution_count": null,
   "metadata": {},
   "outputs": [],
   "source": []
  },
  {
   "cell_type": "code",
   "execution_count": null,
   "metadata": {},
   "outputs": [],
   "source": []
  },
  {
   "cell_type": "code",
   "execution_count": null,
   "metadata": {},
   "outputs": [],
   "source": [
    "logreg = LogisticRegression(solver='saga', n_jobs=-1)"
   ]
  },
  {
   "cell_type": "code",
   "execution_count": null,
   "metadata": {},
   "outputs": [],
   "source": [
    "params = {'penalty' : ['l1', 'l2'],\n",
    "          'C' : np.logspace(-3, 3, 7),\n",
    "          'fit_intercept': [True, False]}\n",
    "\n",
    "logreg_gs = GridSearchCV(estimator=logreg, param_grid=params, n_jobs=-1, cv=3)\n",
    "\n",
    "logreg_gs.fit(X_train, y_train)"
   ]
  },
  {
   "cell_type": "code",
   "execution_count": null,
   "metadata": {},
   "outputs": [],
   "source": [
    "logreg_gs.best_score_"
   ]
  },
  {
   "cell_type": "code",
   "execution_count": null,
   "metadata": {},
   "outputs": [],
   "source": []
  },
  {
   "cell_type": "code",
   "execution_count": null,
   "metadata": {},
   "outputs": [],
   "source": []
  },
  {
   "cell_type": "code",
   "execution_count": null,
   "metadata": {},
   "outputs": [],
   "source": []
  },
  {
   "cell_type": "code",
   "execution_count": null,
   "metadata": {},
   "outputs": [],
   "source": []
  },
  {
   "cell_type": "code",
   "execution_count": null,
   "metadata": {},
   "outputs": [],
   "source": [
    "svm = SVC()"
   ]
  },
  {
   "cell_type": "code",
   "execution_count": null,
   "metadata": {},
   "outputs": [],
   "source": [
    "params = [{'kernel': 'rbf',\n",
    "          'gamma': np.logspace(-2, 2, 5),\n",
    "          'C': [0.01, 0.1, 1, 10, 100, 1000]},\n",
    "          {'kernel': 'linear',\n",
    "           'C': [0.01, 0.1, 1, 10, 100, 1000]}]\n",
    "\n",
    "svm_gs = GridSearchCV(estimator=svm, param_grid=params, n_jobs=-1, cv=3)\n",
    "\n",
    "svm_gs.fit(X_train, y_train)"
   ]
  },
  {
   "cell_type": "code",
   "execution_count": null,
   "metadata": {},
   "outputs": [],
   "source": [
    "svm_gs.best_params_"
   ]
  },
  {
   "cell_type": "code",
   "execution_count": null,
   "metadata": {},
   "outputs": [],
   "source": [
    "svm_gs.best_score_"
   ]
  },
  {
   "cell_type": "code",
   "execution_count": null,
   "metadata": {},
   "outputs": [],
   "source": []
  },
  {
   "cell_type": "code",
   "execution_count": null,
   "metadata": {},
   "outputs": [],
   "source": []
  },
  {
   "cell_type": "code",
   "execution_count": null,
   "metadata": {},
   "outputs": [],
   "source": [
    "forest = RandomForestClassifier()"
   ]
  },
  {
   "cell_type": "code",
   "execution_count": null,
   "metadata": {},
   "outputs": [],
   "source": [
    "n_estimators = [100, 300, 500, 800, 1200]\n",
    "max_depth = [5, 8, 15, 25, 30]\n",
    "min_samples_split = [2, 5, 10, 15, 100]\n",
    "min_samples_leaf = [1, 2, 5, 10] \n",
    "\n",
    "hyperF = dict(n_estimators = n_estimators, max_depth = max_depth,  \n",
    "              min_samples_split = min_samples_split, \n",
    "             min_samples_leaf = min_samples_leaf)\n",
    "\n",
    "gridF = GridSearchCV(forest, hyperF, cv = 3, verbose = 1, \n",
    "                      n_jobs = -1)\n",
    "bestF = gridF.fit(X_train, y_train)"
   ]
  },
  {
   "cell_type": "code",
   "execution_count": null,
   "metadata": {},
   "outputs": [],
   "source": [
    "bestF.best_params_"
   ]
  },
  {
   "cell_type": "code",
   "execution_count": null,
   "metadata": {},
   "outputs": [],
   "source": [
    "bestF.score(X_test, y_test)"
   ]
  },
  {
   "cell_type": "code",
   "execution_count": null,
   "metadata": {},
   "outputs": [],
   "source": []
  },
  {
   "cell_type": "code",
   "execution_count": null,
   "metadata": {},
   "outputs": [],
   "source": [
    "xgb = XGBClassifier(objective='multi:softmax', n_jobs=-1)"
   ]
  },
  {
   "cell_type": "code",
   "execution_count": null,
   "metadata": {},
   "outputs": [],
   "source": [
    "# A parameter grid for XGBoost\n",
    "params = {\n",
    "        'min_child_weight': [1, 5, 10],\n",
    "        'gamma': [0.5, 1, 2, 5],\n",
    "        'subsample': [0.8, 0.9, 1.0],\n",
    "        'colsample_bytree': [0.8, 0.9, 1.0],\n",
    "        'max_depth': [2, 3, 5]\n",
    "        }"
   ]
  },
  {
   "cell_type": "code",
   "execution_count": null,
   "metadata": {},
   "outputs": [],
   "source": [
    "xgb_gs = GridSearchCV(estimator=xgb, param_grid=params, n_jobs=-1, cv=3)"
   ]
  },
  {
   "cell_type": "code",
   "execution_count": null,
   "metadata": {},
   "outputs": [],
   "source": [
    "xgb_gs.fit(X_train, y_train)"
   ]
  },
  {
   "cell_type": "code",
   "execution_count": null,
   "metadata": {},
   "outputs": [],
   "source": [
    "xgb_gs.best_params_\n",
    "\n",
    "xgb_gs.best_score_\n",
    "\n",
    "xgb_gs.score(X_test, y_test)\n",
    "\n",
    "xgb_gs.score(X_train, y_train)"
   ]
  },
  {
   "cell_type": "code",
   "execution_count": null,
   "metadata": {},
   "outputs": [],
   "source": []
  },
  {
   "cell_type": "code",
   "execution_count": null,
   "metadata": {},
   "outputs": [],
   "source": []
  },
  {
   "cell_type": "code",
   "execution_count": null,
   "metadata": {},
   "outputs": [],
   "source": []
  },
  {
   "cell_type": "code",
   "execution_count": null,
   "metadata": {},
   "outputs": [],
   "source": [
    "xgb = XGBClassifier(base_score=0.5, booster='gbtree', colsample_bylevel=1,\n",
    "              colsample_bynode=1, colsample_bytree=0.8, gamma=2,\n",
    "              learning_rate=0.1, max_delta_step=0, max_depth=3,\n",
    "              min_child_weight=1, missing=None, n_estimators=100, n_jobs=-1,\n",
    "              nthread=None, objective='multi:softmax', random_state=42,\n",
    "              reg_alpha=0, reg_lambda=1, scale_pos_weight=1, seed=None,\n",
    "              silent=None, subsample=1.0, verbosity=1)"
   ]
  },
  {
   "cell_type": "code",
   "execution_count": null,
   "metadata": {},
   "outputs": [],
   "source": [
    "xgb.fit(X_train, y_train)"
   ]
  },
  {
   "cell_type": "code",
   "execution_count": null,
   "metadata": {},
   "outputs": [],
   "source": [
    "feature_importances = pd.DataFrame(data={'feature': X.columns,\n",
    "                                         'importance': xgb.feature_importances_})\n",
    "\n",
    "feature_importances.sort_values('importance', ascending=False).head(30)"
   ]
  },
  {
   "cell_type": "code",
   "execution_count": null,
   "metadata": {},
   "outputs": [],
   "source": [
    "xgb.score(X_test, y_test)"
   ]
  },
  {
   "cell_type": "code",
   "execution_count": null,
   "metadata": {},
   "outputs": [],
   "source": [
    "xgb.score(X_train, y_train)"
   ]
  },
  {
   "cell_type": "code",
   "execution_count": null,
   "metadata": {},
   "outputs": [],
   "source": []
  },
  {
   "cell_type": "code",
   "execution_count": null,
   "metadata": {},
   "outputs": [],
   "source": []
  },
  {
   "cell_type": "code",
   "execution_count": null,
   "metadata": {},
   "outputs": [],
   "source": []
  }
 ],
 "metadata": {
  "kernelspec": {
   "display_name": "Python 3",
   "language": "python",
   "name": "python3"
  },
  "language_info": {
   "codemirror_mode": {
    "name": "ipython",
    "version": 3
   },
   "file_extension": ".py",
   "mimetype": "text/x-python",
   "name": "python",
   "nbconvert_exporter": "python",
   "pygments_lexer": "ipython3",
   "version": "3.7.3"
  }
 },
 "nbformat": 4,
 "nbformat_minor": 2
}
